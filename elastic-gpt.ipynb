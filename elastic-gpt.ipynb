{
 "cells": [
  {
   "cell_type": "markdown",
   "source": [
    "# https://note.com/npaka/n/nc70d33764018 参照"
   ],
   "metadata": {
    "collapsed": false
   }
  },
  {
   "cell_type": "code",
   "execution_count": 11,
   "metadata": {
    "pycharm": {
     "is_executing": true
    }
   },
   "outputs": [
    {
     "name": "stdout",
     "output_type": "stream",
     "text": [
      "Requirement already satisfied: langchain in ./.venv/lib/python3.11/site-packages (0.0.338)\n",
      "Requirement already satisfied: openai in ./.venv/lib/python3.11/site-packages (1.3.3)\n",
      "Collecting tiktoken\n",
      "  Obtaining dependency information for tiktoken from https://files.pythonhosted.org/packages/15/02/f0d7c68ed90594d90891ee13b87d621ffc3434cccbc461d1f72086ebf0e1/tiktoken-0.5.1-cp311-cp311-macosx_10_9_x86_64.whl.metadata\n",
      "  Downloading tiktoken-0.5.1-cp311-cp311-macosx_10_9_x86_64.whl.metadata (6.6 kB)\n",
      "Requirement already satisfied: elasticsearch in ./.venv/lib/python3.11/site-packages (8.11.0)\n",
      "Requirement already satisfied: PyYAML>=5.3 in ./.venv/lib/python3.11/site-packages (from langchain) (6.0.1)\n",
      "Requirement already satisfied: SQLAlchemy<3,>=1.4 in ./.venv/lib/python3.11/site-packages (from langchain) (2.0.23)\n",
      "Requirement already satisfied: aiohttp<4.0.0,>=3.8.3 in ./.venv/lib/python3.11/site-packages (from langchain) (3.9.0)\n",
      "Requirement already satisfied: anyio<4.0 in ./.venv/lib/python3.11/site-packages (from langchain) (3.7.1)\n",
      "Requirement already satisfied: dataclasses-json<0.7,>=0.5.7 in ./.venv/lib/python3.11/site-packages (from langchain) (0.6.2)\n",
      "Requirement already satisfied: jsonpatch<2.0,>=1.33 in ./.venv/lib/python3.11/site-packages (from langchain) (1.33)\n",
      "Requirement already satisfied: langsmith<0.1.0,>=0.0.63 in ./.venv/lib/python3.11/site-packages (from langchain) (0.0.65)\n",
      "Requirement already satisfied: numpy<2,>=1 in ./.venv/lib/python3.11/site-packages (from langchain) (1.26.2)\n",
      "Requirement already satisfied: pydantic<3,>=1 in ./.venv/lib/python3.11/site-packages (from langchain) (2.5.1)\n",
      "Requirement already satisfied: requests<3,>=2 in ./.venv/lib/python3.11/site-packages (from langchain) (2.31.0)\n",
      "Requirement already satisfied: tenacity<9.0.0,>=8.1.0 in ./.venv/lib/python3.11/site-packages (from langchain) (8.2.3)\n",
      "Requirement already satisfied: distro<2,>=1.7.0 in ./.venv/lib/python3.11/site-packages (from openai) (1.8.0)\n",
      "Requirement already satisfied: httpx<1,>=0.23.0 in ./.venv/lib/python3.11/site-packages (from openai) (0.25.1)\n",
      "Requirement already satisfied: tqdm>4 in ./.venv/lib/python3.11/site-packages (from openai) (4.66.1)\n",
      "Requirement already satisfied: typing-extensions<5,>=4.5 in ./.venv/lib/python3.11/site-packages (from openai) (4.8.0)\n",
      "Collecting regex>=2022.1.18 (from tiktoken)\n",
      "  Obtaining dependency information for regex>=2022.1.18 from https://files.pythonhosted.org/packages/27/b8/fde0e99442b328d159bd0b2c0ff5401e1f1839e7a8d7339308b3915c7faa/regex-2023.10.3-cp311-cp311-macosx_10_9_x86_64.whl.metadata\n",
      "  Downloading regex-2023.10.3-cp311-cp311-macosx_10_9_x86_64.whl.metadata (40 kB)\n",
      "\u001B[2K     \u001B[90m━━━━━━━━━━━━━━━━━━━━━━━━━━━━━━━━━━━━━━━\u001B[0m \u001B[32m40.9/40.9 kB\u001B[0m \u001B[31m847.7 kB/s\u001B[0m eta \u001B[36m0:00:00\u001B[0m \u001B[36m0:00:01\u001B[0m\n",
      "\u001B[?25hRequirement already satisfied: elastic-transport<9,>=8 in ./.venv/lib/python3.11/site-packages (from elasticsearch) (8.10.0)\n",
      "Requirement already satisfied: attrs>=17.3.0 in ./.venv/lib/python3.11/site-packages (from aiohttp<4.0.0,>=3.8.3->langchain) (23.1.0)\n",
      "Requirement already satisfied: multidict<7.0,>=4.5 in ./.venv/lib/python3.11/site-packages (from aiohttp<4.0.0,>=3.8.3->langchain) (6.0.4)\n",
      "Requirement already satisfied: yarl<2.0,>=1.0 in ./.venv/lib/python3.11/site-packages (from aiohttp<4.0.0,>=3.8.3->langchain) (1.9.2)\n",
      "Requirement already satisfied: frozenlist>=1.1.1 in ./.venv/lib/python3.11/site-packages (from aiohttp<4.0.0,>=3.8.3->langchain) (1.4.0)\n",
      "Requirement already satisfied: aiosignal>=1.1.2 in ./.venv/lib/python3.11/site-packages (from aiohttp<4.0.0,>=3.8.3->langchain) (1.3.1)\n",
      "Requirement already satisfied: idna>=2.8 in ./.venv/lib/python3.11/site-packages (from anyio<4.0->langchain) (3.4)\n",
      "Requirement already satisfied: sniffio>=1.1 in ./.venv/lib/python3.11/site-packages (from anyio<4.0->langchain) (1.3.0)\n",
      "Requirement already satisfied: marshmallow<4.0.0,>=3.18.0 in ./.venv/lib/python3.11/site-packages (from dataclasses-json<0.7,>=0.5.7->langchain) (3.20.1)\n",
      "Requirement already satisfied: typing-inspect<1,>=0.4.0 in ./.venv/lib/python3.11/site-packages (from dataclasses-json<0.7,>=0.5.7->langchain) (0.9.0)\n",
      "Requirement already satisfied: urllib3<3,>=1.26.2 in ./.venv/lib/python3.11/site-packages (from elastic-transport<9,>=8->elasticsearch) (2.1.0)\n",
      "Requirement already satisfied: certifi in ./.venv/lib/python3.11/site-packages (from elastic-transport<9,>=8->elasticsearch) (2023.11.17)\n",
      "Requirement already satisfied: httpcore in ./.venv/lib/python3.11/site-packages (from httpx<1,>=0.23.0->openai) (1.0.2)\n",
      "Requirement already satisfied: jsonpointer>=1.9 in ./.venv/lib/python3.11/site-packages (from jsonpatch<2.0,>=1.33->langchain) (2.4)\n",
      "Requirement already satisfied: annotated-types>=0.4.0 in ./.venv/lib/python3.11/site-packages (from pydantic<3,>=1->langchain) (0.6.0)\n",
      "Requirement already satisfied: pydantic-core==2.14.3 in ./.venv/lib/python3.11/site-packages (from pydantic<3,>=1->langchain) (2.14.3)\n",
      "Requirement already satisfied: charset-normalizer<4,>=2 in ./.venv/lib/python3.11/site-packages (from requests<3,>=2->langchain) (3.3.2)\n",
      "Requirement already satisfied: greenlet!=0.4.17 in ./.venv/lib/python3.11/site-packages (from SQLAlchemy<3,>=1.4->langchain) (3.0.1)\n",
      "Requirement already satisfied: packaging>=17.0 in ./.venv/lib/python3.11/site-packages (from marshmallow<4.0.0,>=3.18.0->dataclasses-json<0.7,>=0.5.7->langchain) (23.2)\n",
      "Requirement already satisfied: mypy-extensions>=0.3.0 in ./.venv/lib/python3.11/site-packages (from typing-inspect<1,>=0.4.0->dataclasses-json<0.7,>=0.5.7->langchain) (1.0.0)\n",
      "Requirement already satisfied: h11<0.15,>=0.13 in ./.venv/lib/python3.11/site-packages (from httpcore->httpx<1,>=0.23.0->openai) (0.14.0)\n",
      "Downloading tiktoken-0.5.1-cp311-cp311-macosx_10_9_x86_64.whl (953 kB)\n",
      "\u001B[2K   \u001B[90m━━━━━━━━━━━━━━━━━━━━━━━━━━━━━━━━━━━━━━━━\u001B[0m \u001B[32m953.5/953.5 kB\u001B[0m \u001B[31m4.7 MB/s\u001B[0m eta \u001B[36m0:00:00\u001B[0m00:01\u001B[0m00:01\u001B[0m\n",
      "\u001B[?25hDownloading regex-2023.10.3-cp311-cp311-macosx_10_9_x86_64.whl (296 kB)\n",
      "\u001B[2K   \u001B[90m━━━━━━━━━━━━━━━━━━━━━━━━━━━━━━━━━━━━━━━━\u001B[0m \u001B[32m296.4/296.4 kB\u001B[0m \u001B[31m4.8 MB/s\u001B[0m eta \u001B[36m0:00:00\u001B[0ma \u001B[36m0:00:01\u001B[0m\n",
      "\u001B[?25hInstalling collected packages: regex, tiktoken\n",
      "Successfully installed regex-2023.10.3 tiktoken-0.5.1\n",
      "\n",
      "\u001B[1m[\u001B[0m\u001B[34;49mnotice\u001B[0m\u001B[1;39;49m]\u001B[0m\u001B[39;49m A new release of pip is available: \u001B[0m\u001B[31;49m23.2.1\u001B[0m\u001B[39;49m -> \u001B[0m\u001B[32;49m23.3.1\u001B[0m\n",
      "\u001B[1m[\u001B[0m\u001B[34;49mnotice\u001B[0m\u001B[1;39;49m]\u001B[0m\u001B[39;49m To update, run: \u001B[0m\u001B[32;49mpip install --upgrade pip\u001B[0m\n"
     ]
    }
   ],
   "source": [
    "!pip install langchain openai tiktoken elasticsearch"
   ]
  },
  {
   "cell_type": "code",
   "execution_count": 6,
   "metadata": {
    "collapsed": false,
    "pycharm": {
     "is_executing": true
    }
   },
   "outputs": [
    {
     "name": "stdin",
     "output_type": "stream",
     "text": [
      "Enter your OPENAI_API_KEY ········\n"
     ]
    }
   ],
   "source": [
    "import os\n",
    "import getpass\n",
    "\n",
    "os.environ[\"OPENAI_API_KEY\"] = getpass.getpass(\"Enter your OPENAI_API_KEY\")"
   ]
  },
  {
   "cell_type": "code",
   "execution_count": 58,
   "metadata": {},
   "outputs": [
    {
     "data": {
      "text/plain": [
       "[Document(page_content='LangChainは、大規模言語モデル (LLM)を使用してアプリケーションの作成を簡素化するように設計されたフレームワークです。言語モデル統合フレームワークとしての LangChain のユースケースは、ドキュメント分析と要約、チャットボット、コード分析など、一般的な言語モデルのユースケースと大きく重複します。\\n', metadata={'source': './demo.md'})]"
      ]
     },
     "execution_count": 58,
     "metadata": {},
     "output_type": "execute_result"
    }
   ],
   "source": [
    "from langchain.document_loaders import TextLoader\n",
    "\n",
    "loader = TextLoader(\"./demo.md\")\n",
    "document = loader.load()\n",
    "document"
   ]
  },
  {
   "cell_type": "code",
   "execution_count": 47,
   "metadata": {},
   "outputs": [
    {
     "data": {
      "text/plain": [
       "[Document(page_content='# ぼっちざろっく\\n## あらすじ\\n### 結束バンド\\n後藤ひとりは友達を作れない陰キャでいつも一人で過ごしていたが、中学時代にテレビのインタビューを見て、陰キャでもバンドを組んでいれば人気者になれると聞き、ギターの練習を始める。ひとりは毎日コツコツ練習を重ねることでギターの腕前はかなりのものとなっていたが、気がつけば中学は卒業。結局、友達を作るという当初の目標は達成することはできずじまいだった。そして高校に入学したひとりはギター演奏を動画配信し、「ギターヒーロー」としてネットでそこそこの人気を集めていたが、現実では変わらず友達を作れずにいた。ひとりはギターをこれみよがしに持ち、ギタリストだということをアピールするものの効果はなし。黄昏（たそがれ）ていたところ、ギタリストを探していた伊地知虹夏に誘われ、バンド活動をすることとなる。ひとりは虹夏、山田リョウらと共に「結束バンド」として活動を始めるが、友達は欲しいけどコミュ症独りぼっちのひとりは問題行動ばかり起こしていた。結束バンドなのに、結束力ゼロな凸凹バンド活動は幕開けするのだった。そしてそんなひとりに、クラスメイトの喜多郁代が話しかけてきて、彼女が結束バンドの元メンバーだったことを知る。紆余（うよ）曲折の末、郁代はひとりとの交流で結束バンドに戻ることになり、ひとりたちはライブに向けて準備をすることとなる。ひとりはライブチケットのノルマをこなすため、方々を回ってチケットを売ることになるが、人見知りのひとりには難題ですぐに壁にぶち当たってしまう。絶望するひとりは、そこで行き倒れた廣井きくりと遭遇。彼女の計らいで突発的な路上ライブを行なって、観客を魅了する。きくりのお陰でライブチケットのノルマもこなし、結束バンドはライブに臨むのだった。', metadata={'source': './rock.md'}),\n",
       " Document(page_content='### 文化祭ライブ\\n夏休みに入り、後藤ひとりは知り合いも増えていたが、自分から遊びに誘うことができずに夏休みも終わり、新学期を迎えていた。相も変わらずコミュ症なひとりは文化祭で盛り上がるクラスメイトをよそに、一人黄昏ていた。そんな中、みんなの前で結束バンドのライブをすればクラスで人気者になれるかもと考えたひとりは、喜多郁代の後押しもあり、ライブをすることを決める。文化祭ライブにひとりは大きな不安を抱くが、周囲の励ましと協力によって、ついに文化祭当日を迎える。しかし、ライブ中に機材トラブルが発生し、ひとりはとっさにボトルネック奏法のアドリブを行い、仲間たちはそのフォローに回る。その演奏をみんなから拍手喝采されるひとりだったが、コミュ症のひとりはその晴れ舞台に混乱し、観客席にダイブするという暴挙に出てしまう。ひとまずライブは成功を収めるものの、ひとりの奇行により、結束バンドの名はフリーライターの佐藤愛子の耳に入ることとなる。そして愛子が結束バンドを取材した際に、ひとりが「ギターヒーロー」であることがバレてしまう。愛子はひとりに強い関心を抱くが、結束バンドの演奏に対しては辛らつで、彼女たちを酷評する。そしてひとりたちは、愛子を見返すため、10代限定のロックフェス「未確認ライオット」に参加し、グランプリを目指すことを決める。', metadata={'source': './rock.md'}),\n",
       " Document(page_content='### デモ審査\\n未確認ライオットに参加するためには、デモ審査、ウェブ投票、ライブ審査を通過して、最終審査に合格する必要があった。そして結束バンドは、デモ審査のためのMV(ミュージックビデオ)作成を始める。そんな中、結束バンドの面々は、フェスではライバルとなる人気メタルバンド「SIDEROS」に所属する大槻ヨヨコと出会う。ひねくれ者なヨヨコは、結束バンドをライバル視しながらも、彼女たちにアドバイスを送り、ファンたちの助けもあってMVを完成させる。デモ審査の結果が出るのを待つばかりとなり、新たな春を迎える。ひとりたちは無事進級するものの、相も変わらずコミュ症のひとりは奇行が目立っていた。それでも喜多郁代の助けもあり、ひとりは新たにクラスメイトとなった佐々木次子と友人となる。今までのライブ活動が実りはじめ、徐々に活動範囲が広がっていくひとりたちだったが、そこにライブ出演の依頼が舞い込む。初の依頼にワクワクする結束バンドの面々だったが、イベント会場は音楽ジャンルがバラバラのカオス状態。運営サイドがスケジュールを埋めるためだけに、適当にバンドをブッキングされたことが判明する。アウェーな会場に気圧される結束バンドだったが、それぞれが最善を尽くすことでライブは大盛り上がりのうちに終了し、大成功を収める。そして着実に実力をつけた結束バンドのもとに、デモ審査通過の知らせが届くのだった。\\n\\n## メディアミックス\\n### テレビアニメ\\n2022年テレビアニメ化。2022年10月8日よりTOKYO MX、BS11ほかにて放送。制作はCloverWorks。キャストは、後藤ひとりを青山吉能、伊地知虹夏を鈴代紗弓、山田リョウを水野朔、喜多郁代を長谷川育美が担当している。', metadata={'source': './rock.md'}),\n",
       " Document(page_content='## 登場人物・キャラクター\\n### 後藤 ひとり (ごとう ひとり)\\n秀華高校に通う女子。桃色の髪を無造作に伸ばし、いつもジャージを身につけている。自他共に認める引きこもり一歩手前の「陰キャ」で、承認欲求が人一倍強いにもかかわらず、臆病な性格で人と接するのを極度に苦手としている。そのため、すぐに自分の世界に入って落ち込むという情緒不安定さを見せる。押し入れやダンボールに潜り込む癖があり、「完熟マンゴー仮面」を持ち歩いている。運動も勉強も苦手で、特に勉強はまじめに授業を受けているにもかかわらず、生来の要領の悪さから赤点ギリギリ。自分には何の取り柄もないのを痛感していたため、中学の頃に暗い性格の人間がバンドをやって人気者になったインタビューを読んで、ギターを始める。毎日練習したお陰でギターの腕前はプロ級になったが、結局、その腕前を披露する場に恵まれず、友達を作れないまま中学を卒業。現在は「ギターヒーロー」の名で動画配信している。ギタリストを探していた伊地知虹夏に誘われ、「結束バンド」に加入し、バンド活動を始める。バンド内ではギタリスト兼作詞を担当している。山田リョウに「ぼっち」の愛称を付けられて以降は、その愛称で呼ばれる。ギターの腕前はかなりのものだが、他人と合わせるセッションの経験が皆無なため、バンドではまともに演奏できないでいる。しかし徐々にバンドとして演奏できるようになり、文化祭ライブでは機材トラブルというアクシデントに見舞われながらも、アドリブでボトルネック奏法を行い、ライブを成功に導いた。なお、父親から借りたギターは文化祭で壊れたため、動画配信の広告収入で得たお金を使って、新たなギターを手に入れた。人見知りなため、美容院にもいけず、髪の毛を伸ばし放題で前髪で目をつねに隠している。それに加えて野暮ったいジャージ姿でいるため気づかれていないが、実は同性すら見とれるほどの美少女。黙って着飾っていれば「アイドル事務所に入れる」「ビジュアル担当」と言われるほどのポテンシャルを秘めているが、キメ顔は10秒しか持たず、ふだんの奇行がすべてを台無しにしている。', metadata={'source': './rock.md'}),\n",
       " Document(page_content='### 伊地知 虹夏 (いじち にじか)\\n下北沢高校に通う女子。後藤ひとりより1学年上。ライトイエロー色の髪をサイドテールにセットし、派手目のファッションを好んで着ている。幼い頃に母親と死別しており、父親も多忙なためさびしい日々を送っていた。姉の伊地知星歌の影響で、バンド活動にあこがれるようになり、「結束バンド」を結成する。バンドではドラムを担当している。姉がバンドをやめてライブハウスを始めたのも、自分の応援をするためであることに薄々気づいており、バンドで大成功を収めて姉のライブハウスを有名にするのを夢見ている。明るく面倒見のよい性格をしており、初対面の人とも仲よくなれる人当りのよさを持つ。また、生活能力が皆無な山田リョウの面倒を見たり、コミュ障の後藤ひとりにも根気強く付き合ったりしている。ギターヒーローの大ファンで、当初はひとりがギターヒーローであることに気づかなかったが、8月のライブでひとりの演奏する姿を見て、その正体に気づく。のちに佐藤愛子にひとりの正体を暴露されるまでは、ひとりの正体を知る唯一のメンバーだった。ライブでは緊張からライブ後に毎回倒れるひとりの運搬役も担当しているため、知らず間に体力と筋肉が付いてきており、最近は手慣れた手付きでトランクにひとりを詰めて運んでいるが、周囲からは死体を運んでいるように見えるため怖がられている。また、ほかのメンバーに比べて自分が「地味」なことにコンプレックスを抱き、ひそかに筋肉キャラで目立とうと考えている。', metadata={'source': './rock.md'}),\n",
       " Document(page_content='### 山田 リョウ (やまだ りょう)\\n下北沢高校に通う女子。後藤ひとりより1学年上。中性的な雰囲気を漂わせた麗人で、青色の髪をボブにセットしている。「結束バンド」のメンバーの一人で、ベースと作曲を担当している。飄々（ひょうひょう）としたマイペースな性格で、「変人」と呼ばれると喜ぶ。趣味は廃墟探索と古着屋巡り。変わり者で一人でいるのが好きだが、後藤ひとりと違って特にコミュ障というわけではない。音楽に関しては独自の価値観を持っており、流行（はや）りに流されるのを嫌い、バンドの個性を重視している。そのため過去に別のバンドに所属していたが、人気が出るにつれて売れ筋の曲ばかりを作るようになったバンドに嫌気が差して脱退し、伊地知虹夏に誘われて結束バンドに加入した経緯がある。バンド経験があるため、演奏技術などは結束バンドの中でも群を抜いて高い。楽器類に小遣いを注ぎ込んでいるためいつも金欠で、食費にすら事欠くことも多い。また計画性も皆無で、新しい楽器を買うため、今の楽器を売り飛ばしたりもしている。ミステリアスな雰囲気を漂わせているため、周囲は勉強ができると思っていたが、実は相当なバカ。高校生にもかかわらず学力は中学生レベルにも及ばず、成績はつねに赤点。ただ天才肌で要領がいいため、高校受験の際は一夜漬けで乗り切った。しかし勉強にのめり込み過ぎると、今度は音楽関係が疎（おろそ）かになるという欠点がある。実家は病院を経営しており、かなりの資産家。両親から溺愛されているが、そんな両親の過保護に反発して、ロックを始めた経緯がある。', metadata={'source': './rock.md'}),\n",
       " Document(page_content='### 喜多 郁代 (きた いくよ)\\n秀華高校に通う女子。後藤ひとりとは同学年。ウェーブの入った赤い髪をセミロングに伸ばした美少女で、社交的な性格をしている。いわゆる「陽キャ」で、ひとりとは正反対で要領がよく、友達も多い。一方でなんでも無難にこなせるゆえに特技といったものもなく、自分を平凡な人間と思っているのがコンプレックスとなっている。「郁代」という名前が気に入らず、周囲には名字で呼ぶようにお願いしている。山田リョウを慕っており、彼女に近づくためギターが弾けるとウソをついて、結束バンドに加入した。しかし、土壇場で怖くなって逃げ出しており、そのまま音信不通になっていた。ひとりがギターを弾いている姿を見て、彼女と交流を持ち、ひとりの取り成しで結束バンドに出戻った。バンドではギター兼ボーカルを担当する。実はギターと間違えてベースを買ってしまい、そのせいでいくら練習しても上達しなかったほどの音楽オンチ。歌も上手（うま）いが、カラオケ的な上手さのため歌唱技術そのものはない。しかしひたむきな努力家でもあるため、自らの欠点に気づいてからは、練習を重ねていた。人と接するのが大好きで、自分のSNSはフォロワーが1万5000人以上いる。またその社交性を買われて結束バンドの公式SNSも担当する。喜多郁代の手腕もあって公式SNSは着実に人気を集めているが、美容の話ばっかりしていたせいで、フォロワーからは音楽系アカウント思われず、ライブの告知をした際にはフォロワーから化粧の実演販売をするとカンちがいされていた。2年生ではひとりと違うクラスだったが、3年生ではクラスメイトとなる。ひとりの奇行に頭を悩ませながらも、彼女のフォロー役を担っている。', metadata={'source': './rock.md'}),\n",
       " Document(page_content='### 廣井 きくり (ひろい きくり)\\n実力派サイケデリックロックバンド「SICK HACK(シックハック)」に所属する女性。ベース兼ボーカルを担当している。長く伸ばしたあずき色の髪を三つ編みにしている。いつも酔っぱらっている変人で、行き倒れていたところを後藤ひとりに介抱され、彼女と知り合う。新宿ではカリスマ的な人気を誇り、ひとりと路上ライブを行なって、彼女の行く道を指し示した。ひとりの持つポテンシャルに気づいており、彼女が上のレベルに上がってくるのを期待している。実は高校時代はかなり根暗な性格をしており、自分を変えるためバンドを始めたため、ひとりにシンパシーを抱いている。飲酒を始めたのも緊張から逃れるためだったが、現在はそれが行き過ぎて四六時中酔っぱらっている。バンドも人気があり、チケットノルマも余裕で達成し、グッズ販売も好調なためバンド活動だけで生活している。しかしライブ中も酔っぱらって大暴れするため、儲（もう）けは壊した機材の修理費で消えてしまい、いつも生活は困窮している。伊地知星歌は高校時代の先輩で、結束バンドのライブを見て以降はSTARRYに入り浸っている。風呂なしアパートに住んでいるため、STARRYのシャワーを使ったり、タダ飯にありつこうとしているため、星歌からは迷惑がられている。愛用のベースに「スーパーウルトラ酒呑童子EX」と名前を付けて大事にしているが、しょっちゅうどこかに置き忘れている。\\n\\n### 後藤 ふたり (ごとう ふたり)\\n後藤ひとりの妹。年齢は5歳。姉とは正反対の天真爛漫（らんまん）で無邪気な性格をしている。愛犬のジミヘンと仲がよく、いつもいっしょに遊んでいる。まだ幼いためよくも悪くも素直で、その言動で姉を傷つけたりしている。ナチュラルに姉のことを面倒くさいと思っているが、ギターの腕前は尊敬しており、結束バンドのライブを見た際には姉のことをかっこいいと感じていた。その後、ライブの影響でひとりに教わりながらギターを始めるが、すぐに飽きてしまう。ひとりと後藤ふたりの父によれば、ふたりは家族の中にヒエラルキーを作っており、父親が最下位である。', metadata={'source': './rock.md'}),\n",
       " Document(page_content='### 清水 イライザ (しみず いらいざ)\\nバンド「SICK HACK」に所属する女性。ギターを担当している。金髪を長く伸ばした髪型が特徴。イギリス出身で、18歳までイギリスで暮らしていたため、片言の日本語でしゃべる。日本のアニメや漫画が大好きで、「コミマ」に参加するために3年前に来日し、音楽活動を始めた。ギターのテクニックは確かで、その腕前は感情的でありながらロジカルと評されている。ただし、清水イライザとしてはロックバンドよりも、アニソンのコピーバンドをやりたがっている。また、同人作家としても活動している。\\n\\n### 後藤 美智代 (ごとう みちよ)\\n後藤ひとりの母親。二児の母だが若々しく、言動が明るくノリも軽い。ひとりのことを何かと心配しており、ジャージばかり着ている彼女の服などを買ってきている。ひとりが喜多郁代を家に連れてきた際には大喜びし、謎の行動力を発揮。娘のサポートをするために制服を着て、女子高生になり切って会話に入ろうとした。\\n\\n### 内田 幽々 (うちだ ゆゆ)\\nメタルバンド「SIDEROS(シデロス)」に所属する少女。ベースを担当している。黒い髪をストレートに伸ばし、口元にホクロがあるのが特徴。\\n\\n### 岩下 志麻 (いわした しま)\\nバンド「SICK HACK」に所属する女性。ドラムを担当している。髪をボブにした中性的な風貌をしており、ファンからは「志麻さま」と呼ばれている。バンドの中ではまじめな性格の常識人で、酔っぱらって大暴れする廣井きくりのフォローのために謝罪行脚している。ライブでも変拍子に対応したテクニックの高さを見せつけ、バンドをうまくまとめている。喜多郁代はSICK HACKの中では、岩下志麻が一番まともだと思っているが、実は怒ったらめちゃくちゃ怖いらしく、きくりが暴れた後始末のためにライブ後は毎回怒り狂っている。ドラムも、感情のまま叩いていたら向上したようで、きくりは自分のおかげと胸を張っているが、まったく関係ない。', metadata={'source': './rock.md'}),\n",
       " Document(page_content='### 長谷川 あくび (はせがわ あくび)\\nメタルバンド「SIDEROS(シデロス)」に所属する少女。ドラムを担当している。いつも口元を黒いマスクで隠している。一人称が「自分」で、語尾に「っす」を付けるしゃべり方をするのが特徴。社交的な性格の常識人で、バンド内では大槻ヨヨコへのツッコミ兼フォローも担っている。ヨヨコを「先輩」と呼び慕っており、ヨヨコとは以心伝心の関係で、彼女のわずかな表情の変化から状態を見極めて的確なツッコミを入れている。結束バンドに対しても、同年代のバンドで親近感を感じており、彼女たちの曲を気に入っている。毎回ライブをめちゃくちゃする廣井きくりに対しては憤りを感じており、彼女が一時期FOLTから姿を消した際には平和を満喫していた。\\n\\n### 佐々木 次子 (ささき つぐこ)\\n秀華高校に通う3年生の女子。進級した後藤ひとりとクラスメートとなる。愛称は「さっつー」。喜多郁代とは中学時代からの友人関係で、彼女を通してひとりとも知り合う。ヒップホップが大好きで、基本的にヒップホップ以外の曲には興味がない。そのため、郁代のバンドの話にもあまり興味を示さないが、文化祭ライブでひとりの演奏のすごさは目の当たりにしており、ひとりのことは印象に残っていた。', metadata={'source': './rock.md'}),\n",
       " Document(page_content='### 大槻 ヨヨコ (おおつき よよこ)\\n人気メタルバンド「SIDEROS(シデロス)」のリーダーを務める少女。ギター兼ボーカルを担当している。ライブハウス「FOLT」で活動しており、廣井きくりを純粋に慕っている数少ない人物の一人。小心者なのに意地っ張りという難儀な性格をしており、弱い自分を見せまいとつい強がりをしてしまう。コミュニケーションを取るのも下手で敵をつくりがちであるため、友達もおらず、バンドメンバーも入れ替わりが激しい。きくりはそんな自分にも構ってくれるために慕っているが、飯をたかられたり、お金を貸したり、便利に使われていることに気づいていない。向上心は旺盛であるため、努力して現在の地位にまで上り詰めたが、未だにライブ前は緊張して眠れなくなるほどあがり症。そのせいで三日寝ずに過ごすこともあるほどで、寝不足のせいでコミュニケーションが疎かになるという悪循環に陥っている。ただし、その緊張さがいい意味でバンドメンバーの緊張を解している副次的効果がある。結束バンドの曲を聞いて、彼女たちのことを気に掛けるようになる。頑なに認めようとはしないが、そのさまはファンそのもので、改善点をまとめて彼女たちに教えるなどマネージャー的な役割を担っている。', metadata={'source': './rock.md'}),\n",
       " Document(page_content='### 佐藤 愛子 (さとう あいこ)\\nフリーライターとして活動する女性。ペンネームは「ぽいずん♥やみ」。年齢は23歳だが、童顔で小柄な体型をしているため、中学生でも通る幼い容姿をしている。佐藤愛子自身も幼い容姿は自覚しており、「14歳」と年齢を詐称したこともある。黒い髪をツインアップテールにしている。痛ロリ系のファッションに身を包んでおり、自分でも自分の格好を「痛い奴」と認識している。いいバンドをもっと多くの人に知ってもらいたいとの思いから、音楽系の記事を扱うサイト「ばんらぼ」の運営会社に所属し、記事を書いている。しかし大手のバンドに取材するツテも、音楽雑誌の編集者に就職するツテもないため、最近はアクセス数稼ぎのための記事しか書いておらず辟易している。後藤ひとりの文化祭の奇行が話題となり、その取材のために結束バンドを取材する。その際に、彼女たちの演奏する姿を見て、ひとりがギターヒーローであることに気づき、それをバンドメンバーに暴露した。ギターヒーローのファンだが、結束バンドのバンド演奏は「ガチじゃない」と酷評し、ひとりにバンドを抜けて一人で活動するように勧めた。この行動が結束バンドのメンバーを奮起させ、フェスに参加させるきっかけをつくった。言葉は厳しいが、結束バンドへの評価は的を射ており、ふだんの言動は痛いが音楽に関することには真摯に向き合っている。その後も結束バンドのことは何かと気に掛けており、彼女たちが着々と実力を付けていっているのも認めている。\\n\\n### ひとりの父 (ひとりのちち)\\n後藤ひとりの父親。本名は不明で、素顔もなぜか毎回明かされていないために不明。若い頃、ギターを弾いていたらしく、ひとりの中学時代、ギターに興味を覚えた娘に自分のギターを貸した。動画配信のアカウントを家族で共有しているため、ひとりが「ギターヒーロー」として人気を集めていることも知っており、ひとりのために広告収入を貯金していた。のちに、そのお金を新しいギターを購入する資金として渡している。変な特技を数多く持っており、隠れ身の術で壁に隠れていたり、完熟マンゴー仮面を凝ったデザインに改造したりしている。後藤ふたりから家族ヒエラルキーの中で最下位に置かれており、なんとかそれを挽回したいと考えている。', metadata={'source': './rock.md'}),\n",
       " Document(page_content='### 2号 (にごう)\\n美術大学の映像学科に在籍する女子。髪をミディアムヘアに整えている。「結束バンド」のファン「2号」を名乗っており、1号とは友人同士で、よく二人で行動している。後藤ひとりと廣井きくりの路上ライブを見て、彼女たちのことを知り、ファンとなった。路上ライブの際にひとりが緊張しているのを心配して応援の言葉を投げかけたが、これが結果的に彼女が観客と向き合う大きなきっかけとなっている。映像制作の勉強をしているため、結束バンドがMVを制作する際に伊地知虹夏から依頼され、1号と共にMV制作を手伝った。\\n\\n### 本城 楓子 (ほんじょう ふうこ)\\nメタルバンド「SIDEROS(シデロス)」に所属する少女。ギターを担当している。髪をロングに伸ばし、明るい雰囲気を漂わせている。人当たりがよく、同年代の友達は「ちゃん」付けで呼ぶ。大槻ヨヨコのことは「先輩」と呼び慕っているが、一方でコミュニケーション下手なのを面倒くさいとも思っている。\\n\\n### 吉田 銀次郎 (よしだ ぎんじろう)\\nライブハウス「FOLT」の店長を務める男性。年齢は37歳。見た目は長髪強面でピアスをつけて目つきが鋭く、初対面の人物は思わず怯えるほどビジュアルが怖い。しかし「心が乙女なおっさん」らしく、女言葉で話すなど物腰は柔らかい。見た目と言動のギャップが激しく、周囲を混乱させることがある。好きな音楽のジャンルはパンクロック系。\\n\\n### 1号 (いちごう)\\n美術大学の映像学科に在籍する女子。セミロングヘアにしている。「結束バンド」のファン「1号」を名乗っており、2号とは友人同士で、よく二人で行動している。後藤ひとりと廣井きくりの路上ライブを見て、彼女たちのことを知り、ファンとなった。映像制作の勉強をしているため、結束バンドがMVを制作する際に伊地知虹夏から依頼され、2号と共にMV制作を手伝った。かなりの面食いで、かわいい女の子が大好き。ひとりのビジュアルがお気に入りで、彼女がキメ顔になったらテンションが上がるが、そのビジュアルが10秒しか持たなかったためにMVに使うのはあきらめ、ひとりの出番をほとんどカットした。', metadata={'source': './rock.md'}),\n",
       " Document(page_content='### PAさん (ぴーえーさん)\\nライブハウス「STARRY」のPA(Public Address)エンジニアを務める女性。口ピアスをつけ、黒い髪をストレートロングにしている。伊地知虹夏たちと仲がよく、彼女たちには本名を名乗っているが、覚えられておらず「PAさん」と呼ばれている。ぱっと見はまじめな清楚系に見えるが、かなりいい加減な性格で、高校も朝起きれず1年で中退している。伊地知星歌とは同年代のようで、たまに彼女と独り身同士の闇を吐き出している。\\n\\n### 伊地知 星歌 (いじち せいか)\\n下北沢のライブハウス「STARRY(スターリー)」の店長を務める女性。誕生日を迎えて30歳になった。伊地知虹夏の姉。ライトイエロー色の髪をストレートロングに伸ばして、やさぐれた雰囲気を漂わせている。シビアな性格をしており、口が非常に悪い。しかし根は優しく、厳しいことを言うのも妹を気づかってのもの。また、かわいいもの好きで、ぬいぐるみがないと眠れないなど乙女な一面を持つ。自分では着ないものの、家にかわいらしい衣装を観賞用としてコレクションしており、メイド服や学校の制服をいくつも所持している。後藤ひとりのギターのテクニックと才能に興味を抱いている。また、ひとりの容姿がかわいらしいのを気に入っており、何かと気に掛けている。現在は解散しているが、過去にバンドをしており、ギターを担当していた。当時はかなり傍若無人な性格をしており、「御茶ノ水の魔王」と呼ばれていた。\\n\\n## その他キーワード\\n### 完熟マンゴー仮面 (かんじゅくまんごーかめん)\\n後藤ひとりが引きこもるために使う段ボール箱。「完熟マンゴー」と書かれているため、「完熟マンゴー仮面」と呼ばれている。ひとりが人前に立つと緊張するため、人と接するときはおろか、ライブ演奏中でもスキあらばかぶろうとする。また、実はひとりの父が用意しているらしく、少しずつ進化しており、のちに人型ロボットのような外見へと変化している。ひとりは完熟マンゴー仮面がない場合は、ゴミ箱やトランクを代用品としてかぶってひきこもろうとする。', metadata={'source': './rock.md'}),\n",
       " Document(page_content='### ギターヒーロー\\n後藤ひとりが動画配信の際に用いるハンドルネーム。ひとりは「ギターヒーロー」の名で動画配信して、スゴ腕の女子高生ギタリストとしてカリスマ的な人気を集めている。動画配信は素顔を映さない形で行っており、ひとりがギターヒーローであることはほとんどの人たちが知らない。チャンネル登録者もかなり多いらしく、大槻ヨヨコによれば、ドームを2回満員にするほどにチャンネル登録者がいるという。ただ一方で、ひとりの承認欲求が肥大化した原因でもあり、ギターヒーローとしての活動コメントは、「彼氏がいる」「友達とカラオケ」など捏造がひどい。実はアカウントが家族で共有されているため、ひとりの父にはそれらの虚言癖は最初からバレており、のちにその事実に気づく。また佐藤愛子にひとりがギターヒーローであることを暴露されたことをきっかけに周囲の人間にもそれが知れ渡り、以降は激しく後悔してコメントを自粛している。', metadata={'source': './rock.md'})]"
      ]
     },
     "execution_count": 47,
     "metadata": {},
     "output_type": "execute_result"
    }
   ],
   "source": [
    "from langchain.document_loaders import TextLoader\n",
    "from langchain.text_splitter import MarkdownTextSplitter\n",
    "\n",
    "loader = TextLoader(\"./rock.md\")\n",
    "documents = loader.load()\n",
    "text_splitter = MarkdownTextSplitter(chunk_size=1000)\n",
    "docs = text_splitter.split_documents(documents)\n",
    "docs"
   ]
  },
  {
   "cell_type": "code",
   "execution_count": 74,
   "metadata": {
    "collapsed": false
   },
   "outputs": [],
   "source": [
    "from langchain.embeddings.openai import OpenAIEmbeddings\n",
    "from langchain.vectorstores import ElasticsearchStore\n",
    "\n",
    "embeddings = OpenAIEmbeddings()\n",
    "url = f\"http://localhost:9200\"\n",
    "index_name=\"demo\"\n",
    "\n",
    "db = ElasticsearchStore(\n",
    "    embedding=embeddings,\n",
    "    index_name=index_name,\n",
    "    es_url=url,\n",
    "    strategy=ElasticsearchStore.ExactRetrievalStrategy()\n",
    ")"
   ]
  },
  {
   "cell_type": "code",
   "execution_count": null,
   "metadata": {},
   "outputs": [],
   "source": [
    "db.add_documents(docs)"
   ]
  },
  {
   "cell_type": "code",
   "execution_count": 61,
   "metadata": {},
   "outputs": [
    {
     "data": {
      "text/plain": [
       "['29932539-8a52-458a-b34e-2a46f643f723']"
      ]
     },
     "execution_count": 61,
     "metadata": {},
     "output_type": "execute_result"
    }
   ],
   "source": [
    "db.add_documents(document)"
   ]
  },
  {
   "cell_type": "code",
   "execution_count": 82,
   "metadata": {},
   "outputs": [],
   "source": [
    "# Example of a custom query thats just doing a BM25 search on the text field.\n",
    "def custom_query(query_body: dict, query: str):\n",
    "    \"\"\"Custom query to be used in Elasticsearch.\n",
    "    Args:\n",
    "        query_body (dict): Elasticsearch query body.\n",
    "        query (str): Query string.\n",
    "    Returns:\n",
    "        dict: Elasticsearch query body.\n",
    "    \"\"\"\n",
    "    #print(\"Query Retriever created by the retrieval strategy:\")\n",
    "    #print(query_body)\n",
    "    #print()\n",
    "\n",
    "    new_query_body = {\"query\": {\"match\": {\"text\": query}}}\n",
    "\n",
    "    #print(\"Query thats actually used in Elasticsearch:\")\n",
    "    #print(new_query_body)\n",
    "    print()\n",
    "\n",
    "    return new_query_body\n"
   ]
  },
  {
   "cell_type": "code",
   "execution_count": 84,
   "metadata": {},
   "outputs": [
    {
     "name": "stdout",
     "output_type": "stream",
     "text": [
      "\n",
      "[Document(page_content='# ぼっちざろっく\\n## あらすじ\\n### 結束バンド\\n後藤ひとりは友達を作れない陰キャでいつも一人で過ごしていたが、中学時代にテレビのインタビューを見て、陰キャでもバンドを組んでいれば人気者になれると聞き、ギターの練習を始める。ひとりは毎日コツコツ練習を重ねることでギターの腕前はかなりのものとなっていたが、気がつけば中学は卒業。結局、友達を作るという当初の目標は達成することはできずじまいだった。そして高校に入学したひとりはギター演奏を動画配信し、「ギターヒーロー」としてネットでそこそこの人気を集めていたが、現実では変わらず友達を作れずにいた。ひとりはギターをこれみよがしに持ち、ギタリストだということをアピールするものの効果はなし。黄昏（たそがれ）ていたところ、ギタリストを探していた伊地知虹夏に誘われ、バンド活動をすることとなる。ひとりは虹夏、山田リョウらと共に「結束バンド」として活動を始めるが、友達は欲しいけどコミュ症独りぼっちのひとりは問題行動ばかり起こしていた。結束バンドなのに、結束力ゼロな凸凹バンド活動は幕開けするのだった。そしてそんなひとりに、クラスメイトの喜多郁代が話しかけてきて、彼女が結束バンドの元メンバーだったことを知る。紆余（うよ）曲折の末、郁代はひとりとの交流で結束バンドに戻ることになり、ひとりたちはライブに向けて準備をすることとなる。ひとりはライブチケットのノルマをこなすため、方々を回ってチケットを売ることになるが、人見知りのひとりには難題ですぐに壁にぶち当たってしまう。絶望するひとりは、そこで行き倒れた廣井きくりと遭遇。彼女の計らいで突発的な路上ライブを行なって、観客を魅了する。きくりのお陰でライブチケットのノルマもこなし、結束バンドはライブに臨むのだった。', metadata={'source': './rock.md'}), Document(page_content='### 喜多 郁代 (きた いくよ)\\n秀華高校に通う女子。後藤ひとりとは同学年。ウェーブの入った赤い髪をセミロングに伸ばした美少女で、社交的な性格をしている。いわゆる「陽キャ」で、ひとりとは正反対で要領がよく、友達も多い。一方でなんでも無難にこなせるゆえに特技といったものもなく、自分を平凡な人間と思っているのがコンプレックスとなっている。「郁代」という名前が気に入らず、周囲には名字で呼ぶようにお願いしている。山田リョウを慕っており、彼女に近づくためギターが弾けるとウソをついて、結束バンドに加入した。しかし、土壇場で怖くなって逃げ出しており、そのまま音信不通になっていた。ひとりがギターを弾いている姿を見て、彼女と交流を持ち、ひとりの取り成しで結束バンドに出戻った。バンドではギター兼ボーカルを担当する。実はギターと間違えてベースを買ってしまい、そのせいでいくら練習しても上達しなかったほどの音楽オンチ。歌も上手（うま）いが、カラオケ的な上手さのため歌唱技術そのものはない。しかしひたむきな努力家でもあるため、自らの欠点に気づいてからは、練習を重ねていた。人と接するのが大好きで、自分のSNSはフォロワーが1万5000人以上いる。またその社交性を買われて結束バンドの公式SNSも担当する。喜多郁代の手腕もあって公式SNSは着実に人気を集めているが、美容の話ばっかりしていたせいで、フォロワーからは音楽系アカウント思われず、ライブの告知をした際にはフォロワーから化粧の実演販売をするとカンちがいされていた。2年生ではひとりと違うクラスだったが、3年生ではクラスメイトとなる。ひとりの奇行に頭を悩ませながらも、彼女のフォロー役を担っている。', metadata={'source': './rock.md'}), Document(page_content='### 清水 イライザ (しみず いらいざ)\\nバンド「SICK HACK」に所属する女性。ギターを担当している。金髪を長く伸ばした髪型が特徴。イギリス出身で、18歳までイギリスで暮らしていたため、片言の日本語でしゃべる。日本のアニメや漫画が大好きで、「コミマ」に参加するために3年前に来日し、音楽活動を始めた。ギターのテクニックは確かで、その腕前は感情的でありながらロジカルと評されている。ただし、清水イライザとしてはロックバンドよりも、アニソンのコピーバンドをやりたがっている。また、同人作家としても活動している。\\n\\n### 後藤 美智代 (ごとう みちよ)\\n後藤ひとりの母親。二児の母だが若々しく、言動が明るくノリも軽い。ひとりのことを何かと心配しており、ジャージばかり着ている彼女の服などを買ってきている。ひとりが喜多郁代を家に連れてきた際には大喜びし、謎の行動力を発揮。娘のサポートをするために制服を着て、女子高生になり切って会話に入ろうとした。\\n\\n### 内田 幽々 (うちだ ゆゆ)\\nメタルバンド「SIDEROS(シデロス)」に所属する少女。ベースを担当している。黒い髪をストレートに伸ばし、口元にホクロがあるのが特徴。\\n\\n### 岩下 志麻 (いわした しま)\\nバンド「SICK HACK」に所属する女性。ドラムを担当している。髪をボブにした中性的な風貌をしており、ファンからは「志麻さま」と呼ばれている。バンドの中ではまじめな性格の常識人で、酔っぱらって大暴れする廣井きくりのフォローのために謝罪行脚している。ライブでも変拍子に対応したテクニックの高さを見せつけ、バンドをうまくまとめている。喜多郁代はSICK HACKの中では、岩下志麻が一番まともだと思っているが、実は怒ったらめちゃくちゃ怖いらしく、きくりが暴れた後始末のためにライブ後は毎回怒り狂っている。ドラムも、感情のまま叩いていたら向上したようで、きくりは自分のおかげと胸を張っているが、まったく関係ない。', metadata={'source': './rock.md'})]\n"
     ]
    }
   ],
   "source": [
    "db.client.indices.refresh(index=index_name)\n",
    "\n",
    "query = \"ぼっちざろっくの主人公\"\n",
    "results = db.similarity_search(query, custom_query=custom_query, k=3)\n",
    "print(results)"
   ]
  },
  {
   "cell_type": "code",
   "execution_count": 162,
   "metadata": {},
   "outputs": [],
   "source": [
    "from langchain.chains import RetrievalQAWithSourcesChain\n",
    "from langchain.chat_models import ChatOpenAI\n",
    "\n",
    "llm = ChatOpenAI(model_name=\"gpt-3.5-turbo\",model_kwargs={'stream':False})\n",
    "qa = RetrievalQAWithSourcesChain.from_chain_type(llm=llm, chain_type=\"stuff\", retriever=db.as_retriever(search_kwargs={'k': 1}), return_source_documents=True)"
   ]
  },
  {
   "cell_type": "code",
   "execution_count": null,
   "metadata": {},
   "outputs": [],
   "source": [
    "#Agent"
   ]
  },
  {
   "cell_type": "code",
   "execution_count": 146,
   "metadata": {},
   "outputs": [],
   "source": [
    "from langchain.agents import load_tools\n",
    "from langchain.agents import initialize_agent\n",
    "from langchain.agents import AgentType\n",
    "from langchain.agents import Tool\n",
    "\n",
    "tools = [\n",
    "    Tool(\n",
    "      name = \"elasticsearch_search\",\n",
    "      func=qa,\n",
    "      description=\"テキストデータをロードしたelasticsearchから情報検索する\"\n",
    "  )\n",
    "]\n",
    "\n",
    "agent = initialize_agent(tools, llm, agent=AgentType.ZERO_SHOT_REACT_DESCRIPTION, verbose=True)\n"
   ]
  },
  {
   "cell_type": "code",
   "execution_count": 147,
   "metadata": {},
   "outputs": [],
   "source": [
    "from langchain.chains.qa_with_sources.map_reduce_prompt import QUESTION_PROMPT\n",
    "from langchain import PromptTemplate\n",
    "\n",
    "template = \"\"\"\n",
    "下記の質問に日本語で答えてください。\n",
    "質問：{question}\n",
    "回答：\n",
    "\"\"\"\n",
    "\n",
    "prompt = PromptTemplate(\n",
    "    input_variables=[\"question\"],\n",
    "    template=template,\n",
    ")\n"
   ]
  },
  {
   "cell_type": "code",
   "execution_count": 148,
   "metadata": {},
   "outputs": [
    {
     "name": "stdout",
     "output_type": "stream",
     "text": [
      "\n",
      "\n",
      "\u001B[1m> Entering new AgentExecutor chain...\u001B[0m\n",
      "\u001B[32;1m\u001B[1;3mどのバンドのリーダーかを検索する必要があります。\n",
      "Action: elasticsearch_search\n",
      "Action Input: \"大槻ヨヨコ バンド リーダー\"\u001B[0m\n",
      "Observation: \u001B[36;1m\u001B[1;3m{'question': '大槻ヨヨコ バンド リーダー', 'answer': '大槻ヨヨコは人気メタルバンド「SIDEROS」のリーダーであり、ギター兼ボーカルを担当しています。\\n', 'sources': './rock.md'}\u001B[0m\n",
      "Thought:\u001B[32;1m\u001B[1;3m大槻ヨヨコは人気メタルバンド「SIDEROS」のリーダーであり、ギター兼ボーカルを担当しています。\n",
      "Final Answer: 大槻ヨヨコは「SIDEROS」のリーダーです。\u001B[0m\n",
      "\n",
      "\u001B[1m> Finished chain.\u001B[0m\n"
     ]
    },
    {
     "data": {
      "text/plain": [
       "'大槻ヨヨコは「SIDEROS」のリーダーです。'"
      ]
     },
     "execution_count": 148,
     "metadata": {},
     "output_type": "execute_result"
    }
   ],
   "source": [
    "query = \"大槻ヨヨコはどのバンドのリーダーですか？\"\n",
    "question = prompt.format(question=query)\n",
    "\n",
    "agent.run(question)\n"
   ]
  },
  {
   "cell_type": "code",
   "execution_count": 163,
   "metadata": {},
   "outputs": [],
   "source": [
    "result=qa(\"ぼっちちゃんの得意な楽器は？\")"
   ]
  },
  {
   "cell_type": "code",
   "execution_count": 164,
   "metadata": {},
   "outputs": [
    {
     "data": {
      "text/plain": [
       "{'question': 'ぼっちちゃんの得意な楽器は？',\n",
       " 'answer': 'ぼっちちゃんの得意な楽器はギターです。\\n',\n",
       " 'sources': './rock.md',\n",
       " 'source_documents': [Document(page_content='# ぼっちざろっく\\n## あらすじ\\n### 結束バンド\\n後藤ひとりは友達を作れない陰キャでいつも一人で過ごしていたが、中学時代にテレビのインタビューを見て、陰キャでもバンドを組んでいれば人気者になれると聞き、ギターの練習を始める。ひとりは毎日コツコツ練習を重ねることでギターの腕前はかなりのものとなっていたが、気がつけば中学は卒業。結局、友達を作るという当初の目標は達成することはできずじまいだった。そして高校に入学したひとりはギター演奏を動画配信し、「ギターヒーロー」としてネットでそこそこの人気を集めていたが、現実では変わらず友達を作れずにいた。ひとりはギターをこれみよがしに持ち、ギタリストだということをアピールするものの効果はなし。黄昏（たそがれ）ていたところ、ギタリストを探していた伊地知虹夏に誘われ、バンド活動をすることとなる。ひとりは虹夏、山田リョウらと共に「結束バンド」として活動を始めるが、友達は欲しいけどコミュ症独りぼっちのひとりは問題行動ばかり起こしていた。結束バンドなのに、結束力ゼロな凸凹バンド活動は幕開けするのだった。そしてそんなひとりに、クラスメイトの喜多郁代が話しかけてきて、彼女が結束バンドの元メンバーだったことを知る。紆余（うよ）曲折の末、郁代はひとりとの交流で結束バンドに戻ることになり、ひとりたちはライブに向けて準備をすることとなる。ひとりはライブチケットのノルマをこなすため、方々を回ってチケットを売ることになるが、人見知りのひとりには難題ですぐに壁にぶち当たってしまう。絶望するひとりは、そこで行き倒れた廣井きくりと遭遇。彼女の計らいで突発的な路上ライブを行なって、観客を魅了する。きくりのお陰でライブチケットのノルマもこなし、結束バンドはライブに臨むのだった。', metadata={'source': './rock.md'})]}"
      ]
     },
     "execution_count": 164,
     "metadata": {},
     "output_type": "execute_result"
    }
   ],
   "source": [
    "result"
   ]
  },
  {
   "cell_type": "code",
   "execution_count": 161,
   "metadata": {},
   "outputs": [],
   "source": [
    "from ragas.langchain.evalchain import RagasEvaluatorChain\n",
    "from ragas.metrics import (\n",
    "    faithfulness,\n",
    "    answer_relevancy,\n",
    "    context_precision,\n",
    "    context_recall,\n",
    ")\n",
    "\n",
    "# create evaluation chains\n",
    "faithfulness_chain = RagasEvaluatorChain(metric=faithfulness)\n",
    "answer_rel_chain = RagasEvaluatorChain(metric=answer_relevancy)\n",
    "context_rel_chain = RagasEvaluatorChain(metric=context_precision)\n",
    "context_recall_chain = RagasEvaluatorChain(metric=context_recall)"
   ]
  },
  {
   "cell_type": "code",
   "execution_count": 167,
   "metadata": {},
   "outputs": [
    {
     "data": {
      "text/plain": [
       "{'query': 'ぼっちちゃんの得意な楽器は？',\n",
       " 'result': 'ぼっちちゃんの得意な楽器はギターです。\\n',\n",
       " 'source_documents': [Document(page_content='# ぼっちざろっく\\n## あらすじ\\n### 結束バンド\\n後藤ひとりは友達を作れない陰キャでいつも一人で過ごしていたが、中学時代にテレビのインタビューを見て、陰キャでもバンドを組んでいれば人気者になれると聞き、ギターの練習を始める。ひとりは毎日コツコツ練習を重ねることでギターの腕前はかなりのものとなっていたが、気がつけば中学は卒業。結局、友達を作るという当初の目標は達成することはできずじまいだった。そして高校に入学したひとりはギター演奏を動画配信し、「ギターヒーロー」としてネットでそこそこの人気を集めていたが、現実では変わらず友達を作れずにいた。ひとりはギターをこれみよがしに持ち、ギタリストだということをアピールするものの効果はなし。黄昏（たそがれ）ていたところ、ギタリストを探していた伊地知虹夏に誘われ、バンド活動をすることとなる。ひとりは虹夏、山田リョウらと共に「結束バンド」として活動を始めるが、友達は欲しいけどコミュ症独りぼっちのひとりは問題行動ばかり起こしていた。結束バンドなのに、結束力ゼロな凸凹バンド活動は幕開けするのだった。そしてそんなひとりに、クラスメイトの喜多郁代が話しかけてきて、彼女が結束バンドの元メンバーだったことを知る。紆余（うよ）曲折の末、郁代はひとりとの交流で結束バンドに戻ることになり、ひとりたちはライブに向けて準備をすることとなる。ひとりはライブチケットのノルマをこなすため、方々を回ってチケットを売ることになるが、人見知りのひとりには難題ですぐに壁にぶち当たってしまう。絶望するひとりは、そこで行き倒れた廣井きくりと遭遇。彼女の計らいで突発的な路上ライブを行なって、観客を魅了する。きくりのお陰でライブチケットのノルマもこなし、結束バンドはライブに臨むのだった。', metadata={'source': './rock.md'})]}"
      ]
     },
     "execution_count": 167,
     "metadata": {},
     "output_type": "execute_result"
    }
   ],
   "source": [
    "ragas_result={\n",
    "    'query': result['question'],\n",
    "    'result': result['answer'],\n",
    "    'source_documents': result['source_documents']\n",
    "}\n",
    "ragas_result"
   ]
  },
  {
   "cell_type": "code",
   "execution_count": 168,
   "metadata": {},
   "outputs": [
    {
     "data": {
      "text/plain": [
       "{'query': 'ぼっちちゃんの得意な楽器は？',\n",
       " 'result': 'ぼっちちゃんの得意な楽器はギターです。\\n',\n",
       " 'source_documents': [Document(page_content='# ぼっちざろっく\\n## あらすじ\\n### 結束バンド\\n後藤ひとりは友達を作れない陰キャでいつも一人で過ごしていたが、中学時代にテレビのインタビューを見て、陰キャでもバンドを組んでいれば人気者になれると聞き、ギターの練習を始める。ひとりは毎日コツコツ練習を重ねることでギターの腕前はかなりのものとなっていたが、気がつけば中学は卒業。結局、友達を作るという当初の目標は達成することはできずじまいだった。そして高校に入学したひとりはギター演奏を動画配信し、「ギターヒーロー」としてネットでそこそこの人気を集めていたが、現実では変わらず友達を作れずにいた。ひとりはギターをこれみよがしに持ち、ギタリストだということをアピールするものの効果はなし。黄昏（たそがれ）ていたところ、ギタリストを探していた伊地知虹夏に誘われ、バンド活動をすることとなる。ひとりは虹夏、山田リョウらと共に「結束バンド」として活動を始めるが、友達は欲しいけどコミュ症独りぼっちのひとりは問題行動ばかり起こしていた。結束バンドなのに、結束力ゼロな凸凹バンド活動は幕開けするのだった。そしてそんなひとりに、クラスメイトの喜多郁代が話しかけてきて、彼女が結束バンドの元メンバーだったことを知る。紆余（うよ）曲折の末、郁代はひとりとの交流で結束バンドに戻ることになり、ひとりたちはライブに向けて準備をすることとなる。ひとりはライブチケットのノルマをこなすため、方々を回ってチケットを売ることになるが、人見知りのひとりには難題ですぐに壁にぶち当たってしまう。絶望するひとりは、そこで行き倒れた廣井きくりと遭遇。彼女の計らいで突発的な路上ライブを行なって、観客を魅了する。きくりのお陰でライブチケットのノルマもこなし、結束バンドはライブに臨むのだった。', metadata={'source': './rock.md'})],\n",
       " 'faithfulness_score': 1.0}"
      ]
     },
     "execution_count": 168,
     "metadata": {},
     "output_type": "execute_result"
    }
   ],
   "source": [
    "faithfulness_chain(ragas_result)"
   ]
  },
  {
   "cell_type": "code",
   "execution_count": 169,
   "metadata": {},
   "outputs": [
    {
     "data": {
      "text/plain": [
       "{'query': 'ぼっちちゃんの得意な楽器は？',\n",
       " 'result': 'ぼっちちゃんの得意な楽器はギターです。\\n',\n",
       " 'source_documents': [Document(page_content='# ぼっちざろっく\\n## あらすじ\\n### 結束バンド\\n後藤ひとりは友達を作れない陰キャでいつも一人で過ごしていたが、中学時代にテレビのインタビューを見て、陰キャでもバンドを組んでいれば人気者になれると聞き、ギターの練習を始める。ひとりは毎日コツコツ練習を重ねることでギターの腕前はかなりのものとなっていたが、気がつけば中学は卒業。結局、友達を作るという当初の目標は達成することはできずじまいだった。そして高校に入学したひとりはギター演奏を動画配信し、「ギターヒーロー」としてネットでそこそこの人気を集めていたが、現実では変わらず友達を作れずにいた。ひとりはギターをこれみよがしに持ち、ギタリストだということをアピールするものの効果はなし。黄昏（たそがれ）ていたところ、ギタリストを探していた伊地知虹夏に誘われ、バンド活動をすることとなる。ひとりは虹夏、山田リョウらと共に「結束バンド」として活動を始めるが、友達は欲しいけどコミュ症独りぼっちのひとりは問題行動ばかり起こしていた。結束バンドなのに、結束力ゼロな凸凹バンド活動は幕開けするのだった。そしてそんなひとりに、クラスメイトの喜多郁代が話しかけてきて、彼女が結束バンドの元メンバーだったことを知る。紆余（うよ）曲折の末、郁代はひとりとの交流で結束バンドに戻ることになり、ひとりたちはライブに向けて準備をすることとなる。ひとりはライブチケットのノルマをこなすため、方々を回ってチケットを売ることになるが、人見知りのひとりには難題ですぐに壁にぶち当たってしまう。絶望するひとりは、そこで行き倒れた廣井きくりと遭遇。彼女の計らいで突発的な路上ライブを行なって、観客を魅了する。きくりのお陰でライブチケットのノルマもこなし、結束バンドはライブに臨むのだった。', metadata={'source': './rock.md'})],\n",
       " 'answer_relevancy_score': 0.894759063627628}"
      ]
     },
     "execution_count": 169,
     "metadata": {},
     "output_type": "execute_result"
    }
   ],
   "source": [
    "answer_rel_chain(ragas_result)"
   ]
  },
  {
   "cell_type": "code",
   "execution_count": 170,
   "metadata": {},
   "outputs": [
    {
     "data": {
      "text/plain": [
       "{'query': 'ぼっちちゃんの得意な楽器は？',\n",
       " 'result': 'ぼっちちゃんの得意な楽器はギターです。\\n',\n",
       " 'source_documents': [Document(page_content='# ぼっちざろっく\\n## あらすじ\\n### 結束バンド\\n後藤ひとりは友達を作れない陰キャでいつも一人で過ごしていたが、中学時代にテレビのインタビューを見て、陰キャでもバンドを組んでいれば人気者になれると聞き、ギターの練習を始める。ひとりは毎日コツコツ練習を重ねることでギターの腕前はかなりのものとなっていたが、気がつけば中学は卒業。結局、友達を作るという当初の目標は達成することはできずじまいだった。そして高校に入学したひとりはギター演奏を動画配信し、「ギターヒーロー」としてネットでそこそこの人気を集めていたが、現実では変わらず友達を作れずにいた。ひとりはギターをこれみよがしに持ち、ギタリストだということをアピールするものの効果はなし。黄昏（たそがれ）ていたところ、ギタリストを探していた伊地知虹夏に誘われ、バンド活動をすることとなる。ひとりは虹夏、山田リョウらと共に「結束バンド」として活動を始めるが、友達は欲しいけどコミュ症独りぼっちのひとりは問題行動ばかり起こしていた。結束バンドなのに、結束力ゼロな凸凹バンド活動は幕開けするのだった。そしてそんなひとりに、クラスメイトの喜多郁代が話しかけてきて、彼女が結束バンドの元メンバーだったことを知る。紆余（うよ）曲折の末、郁代はひとりとの交流で結束バンドに戻ることになり、ひとりたちはライブに向けて準備をすることとなる。ひとりはライブチケットのノルマをこなすため、方々を回ってチケットを売ることになるが、人見知りのひとりには難題ですぐに壁にぶち当たってしまう。絶望するひとりは、そこで行き倒れた廣井きくりと遭遇。彼女の計らいで突発的な路上ライブを行なって、観客を魅了する。きくりのお陰でライブチケットのノルマもこなし、結束バンドはライブに臨むのだった。', metadata={'source': './rock.md'})],\n",
       " 'context_precision_score': 0.0}"
      ]
     },
     "execution_count": 170,
     "metadata": {},
     "output_type": "execute_result"
    }
   ],
   "source": [
    "context_rel_chain(ragas_result)"
   ]
  },
  {
   "cell_type": "code",
   "execution_count": null,
   "metadata": {},
   "outputs": [],
   "source": []
  }
 ],
 "metadata": {
  "kernelspec": {
   "display_name": "Python 3 (ipykernel)",
   "language": "python",
   "name": "python3"
  },
  "language_info": {
   "codemirror_mode": {
    "name": "ipython",
    "version": 3
   },
   "file_extension": ".py",
   "mimetype": "text/x-python",
   "name": "python",
   "nbconvert_exporter": "python",
   "pygments_lexer": "ipython3",
   "version": "3.11.6"
  }
 },
 "nbformat": 4,
 "nbformat_minor": 4
}
